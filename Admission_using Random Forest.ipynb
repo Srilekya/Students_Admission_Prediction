{
 "cells": [
  {
   "cell_type": "code",
   "execution_count": null,
   "id": "e2626070",
   "metadata": {},
   "outputs": [],
   "source": [
    "import numpy as np\n",
    "import pandas as pd \n",
    "import seaborn as sns\n",
    "import matplotlib.pyplot as plt\n",
    "pd.pandas.set_option('display.max_columns',None)\n",
    "\n",
    "from statsmodels.stats.outliers_influence import variance_inflation_factor\n",
    "from sklearn.preprocessing import MinMaxScaler\n",
    "from sklearn.linear_model import LogisticRegression\n",
    "from sklearn.tree import DecisionTreeClassifier\n",
    "from sklearn.ensemble import RandomForestClassifier,BaggingClassifier\n",
    "from sklearn.model_selection import train_test_split,cross_val_score\n",
    "from sklearn.metrics import confusion_matrix,classification_report,accuracy_score\n"
   ]
  },
  {
   "cell_type": "code",
   "execution_count": null,
   "id": "ca5ad477",
   "metadata": {
    "scrolled": false
   },
   "outputs": [],
   "source": [
    "df=pd.read_csv('admission.csv')\n",
    "df.head()"
   ]
  },
  {
   "cell_type": "markdown",
   "id": "cb70abce",
   "metadata": {},
   "source": [
    "### Basic information"
   ]
  },
  {
   "cell_type": "code",
   "execution_count": null,
   "id": "744ff912",
   "metadata": {
    "scrolled": false
   },
   "outputs": [],
   "source": [
    "df.info()"
   ]
  },
  {
   "cell_type": "markdown",
   "id": "53f033b5",
   "metadata": {},
   "source": [
    "- all the  features are numerical"
   ]
  },
  {
   "cell_type": "code",
   "execution_count": null,
   "id": "5ab6a841",
   "metadata": {},
   "outputs": [],
   "source": [
    "df.shape"
   ]
  },
  {
   "cell_type": "code",
   "execution_count": null,
   "id": "1b0d9cd3",
   "metadata": {
    "scrolled": true
   },
   "outputs": [],
   "source": [
    "df.columns"
   ]
  },
  {
   "cell_type": "code",
   "execution_count": null,
   "id": "0663c6a8",
   "metadata": {
    "scrolled": true
   },
   "outputs": [],
   "source": [
    "df.isna().sum()"
   ]
  },
  {
   "cell_type": "markdown",
   "id": "668ebeb6",
   "metadata": {},
   "source": [
    "- features has no null values."
   ]
  },
  {
   "cell_type": "code",
   "execution_count": null,
   "id": "fefd9956",
   "metadata": {},
   "outputs": [],
   "source": [
    "# since,serial no. is of unique values ,dropped it.\n",
    "df=df.drop(labels='Serial No.',axis=1)"
   ]
  },
  {
   "cell_type": "markdown",
   "id": "dba3de23",
   "metadata": {},
   "source": [
    "# Exploratory Data Analysis"
   ]
  },
  {
   "cell_type": "markdown",
   "id": "3ebec3de",
   "metadata": {},
   "source": [
    "# Q1. a) Visualize the 10 random rows of the data set\n"
   ]
  },
  {
   "cell_type": "code",
   "execution_count": null,
   "id": "7b086d75",
   "metadata": {},
   "outputs": [],
   "source": [
    "sample=df.sample(n=10)\n",
    "sample"
   ]
  },
  {
   "cell_type": "code",
   "execution_count": null,
   "id": "41543572",
   "metadata": {
    "scrolled": false
   },
   "outputs": [],
   "source": [
    "plt.figure(figsize=(10,10))\n",
    "sample.boxplot()\n",
    "plt.show()"
   ]
  },
  {
   "cell_type": "code",
   "execution_count": null,
   "id": "aa7f3684",
   "metadata": {
    "scrolled": true
   },
   "outputs": [],
   "source": [
    "sns.pairplot(sample,diag_kind='kde',kind='reg')\n",
    "plt.show()"
   ]
  },
  {
   "cell_type": "code",
   "execution_count": null,
   "id": "37988697",
   "metadata": {
    "scrolled": false
   },
   "outputs": [],
   "source": [
    "plt.figure(figsize=(20,10))\n",
    "sns.histplot(data=df,bins=100)\n",
    "plt.show()"
   ]
  },
  {
   "cell_type": "code",
   "execution_count": null,
   "id": "8255d758",
   "metadata": {},
   "outputs": [],
   "source": [
    "sns.heatmap(sample,annot=True,cmap='viridis')\n",
    "plt.show()"
   ]
  },
  {
   "cell_type": "markdown",
   "id": "8841a543",
   "metadata": {},
   "source": [
    "# b) Generate the description for numeric variables"
   ]
  },
  {
   "cell_type": "code",
   "execution_count": null,
   "id": "f616647f",
   "metadata": {},
   "outputs": [],
   "source": [
    "df.describe()"
   ]
  },
  {
   "cell_type": "markdown",
   "id": "bec265d9",
   "metadata": {},
   "source": [
    "# c) Check the shape of the data set"
   ]
  },
  {
   "cell_type": "code",
   "execution_count": null,
   "id": "abc80a55",
   "metadata": {
    "scrolled": true
   },
   "outputs": [],
   "source": [
    "df.shape"
   ]
  },
  {
   "cell_type": "markdown",
   "id": "9dd7bb38",
   "metadata": {},
   "source": [
    "# d) Generate the correlation matrix"
   ]
  },
  {
   "cell_type": "code",
   "execution_count": null,
   "id": "95232a93",
   "metadata": {
    "scrolled": true
   },
   "outputs": [],
   "source": [
    "df.corr()"
   ]
  },
  {
   "cell_type": "markdown",
   "id": "6d945ae3",
   "metadata": {},
   "source": [
    "- CGPA and Chance of Admit has high correlation."
   ]
  },
  {
   "cell_type": "markdown",
   "id": "400a951b",
   "metadata": {},
   "source": [
    "# e) Generate a correlogram"
   ]
  },
  {
   "cell_type": "code",
   "execution_count": null,
   "id": "565cb1b0",
   "metadata": {},
   "outputs": [],
   "source": [
    "sns.pairplot(df,diag_kind='kde',kind='reg')\n",
    "plt.show()"
   ]
  },
  {
   "cell_type": "markdown",
   "id": "bb0142c8",
   "metadata": {},
   "source": [
    "# Q.2\tFind out the minimum and maximum values for GRE score."
   ]
  },
  {
   "cell_type": "code",
   "execution_count": null,
   "id": "1b6cb584",
   "metadata": {
    "scrolled": false
   },
   "outputs": [],
   "source": [
    "plt.figure(figsize=(20,10))\n",
    "sns.barplot(x=df['GRE Score'].unique(),y=df['GRE Score'].value_counts())\n",
    "plt.xlabel('GRE Score', fontsize=15)\n",
    "plt.ylabel('Count', fontsize=15)\n",
    "plt.title('GRE Score Count Distribution', fontsize=15)\n",
    "plt.show()"
   ]
  },
  {
   "cell_type": "markdown",
   "id": "5dbd1d92",
   "metadata": {},
   "source": [
    "From this Barplot,\n",
    "- Min_value of GRE Score is 290 \n",
    "- Max_value of GRE Score is 340"
   ]
  },
  {
   "cell_type": "code",
   "execution_count": null,
   "id": "8e4cf095",
   "metadata": {},
   "outputs": [],
   "source": [
    "df['GRE Score'].min()"
   ]
  },
  {
   "cell_type": "code",
   "execution_count": null,
   "id": "2de7f83b",
   "metadata": {},
   "outputs": [],
   "source": [
    "df['GRE Score'].max()"
   ]
  },
  {
   "cell_type": "markdown",
   "id": "e1159f42",
   "metadata": {},
   "source": [
    "# Q.3\tFind out the percentage of universities for each university rating."
   ]
  },
  {
   "cell_type": "code",
   "execution_count": null,
   "id": "28dc80d8",
   "metadata": {
    "scrolled": false
   },
   "outputs": [],
   "source": [
    "df['University Rating'].value_counts(normalize=True)"
   ]
  },
  {
   "cell_type": "markdown",
   "id": "e889f2c3",
   "metadata": {},
   "source": [
    "# Q.4\tConvert the target variable “Chance of Admit” to categorical having values 0 and 1,such that :\n",
    "\n",
    "Students having the “Chance of Admit” value > 0.80, are assigned value 1, and\n",
    "Students having the “Chance of Admit” value < 0.80, are assigned value 0\n",
    "Where 0: Low chance of Admission and 1: High chance of admission.\n"
   ]
  },
  {
   "cell_type": "code",
   "execution_count": null,
   "id": "92f09e53",
   "metadata": {
    "scrolled": true
   },
   "outputs": [],
   "source": [
    "df.info()"
   ]
  },
  {
   "cell_type": "code",
   "execution_count": null,
   "id": "c8f17e0b",
   "metadata": {
    "scrolled": false
   },
   "outputs": [],
   "source": [
    "df['Chance of Admit']=np.where(df['Chance of Admit'].values<=0.80,0,1)\n",
    "df.head()"
   ]
  },
  {
   "cell_type": "code",
   "execution_count": null,
   "id": "3634f447",
   "metadata": {},
   "outputs": [],
   "source": [
    "df['Chance of Admit']=df['Chance of Admit'].astype('category')\n",
    "df.info()"
   ]
  },
  {
   "cell_type": "markdown",
   "id": "745547c7",
   "metadata": {},
   "source": [
    "# EDA"
   ]
  },
  {
   "cell_type": "markdown",
   "id": "5c947cdc",
   "metadata": {},
   "source": [
    "###  prevalance rate of traget variable."
   ]
  },
  {
   "cell_type": "code",
   "execution_count": null,
   "id": "2f3cafe6",
   "metadata": {
    "scrolled": true
   },
   "outputs": [],
   "source": [
    "df['Chance of Admit']=pd.DataFrame(df['Chance of Admit'])\n",
    "df['Chance of Admit'].value_counts(normalize=True)*100"
   ]
  },
  {
   "cell_type": "markdown",
   "id": "d7266096",
   "metadata": {},
   "source": [
    "- the target variable is balanced."
   ]
  },
  {
   "cell_type": "markdown",
   "id": "7304516a",
   "metadata": {},
   "source": [
    "typecasting:"
   ]
  },
  {
   "cell_type": "code",
   "execution_count": null,
   "id": "287052b8",
   "metadata": {
    "scrolled": false
   },
   "outputs": [],
   "source": [
    "df['University Rating'].value_counts()"
   ]
  },
  {
   "cell_type": "code",
   "execution_count": null,
   "id": "ed3812ef",
   "metadata": {
    "scrolled": false
   },
   "outputs": [],
   "source": [
    "df['SOP'].value_counts()"
   ]
  },
  {
   "cell_type": "code",
   "execution_count": null,
   "id": "f08db9f3",
   "metadata": {},
   "outputs": [],
   "source": [
    "df['LOR'].value_counts()"
   ]
  },
  {
   "cell_type": "code",
   "execution_count": null,
   "id": "1bc561f3",
   "metadata": {
    "scrolled": true
   },
   "outputs": [],
   "source": [
    "df['Research'].value_counts()"
   ]
  },
  {
   "cell_type": "code",
   "execution_count": null,
   "id": "5858d165",
   "metadata": {},
   "outputs": [],
   "source": [
    "df['University Rating']=df['University Rating'].astype('category')\n",
    "df['SOP']=df['SOP'].astype('category')\n",
    "df['LOR']=df['LOR'].astype('category')\n",
    "df['Research']=df['Research'].astype('category')"
   ]
  },
  {
   "cell_type": "code",
   "execution_count": null,
   "id": "1ec4ce54",
   "metadata": {},
   "outputs": [],
   "source": [
    "df.info()"
   ]
  },
  {
   "cell_type": "code",
   "execution_count": null,
   "id": "77feb7b1",
   "metadata": {
    "scrolled": true
   },
   "outputs": [],
   "source": [
    "x=df.iloc[:,:-1]\n",
    "x.head()"
   ]
  },
  {
   "cell_type": "code",
   "execution_count": null,
   "id": "5532a163",
   "metadata": {
    "scrolled": true
   },
   "outputs": [],
   "source": [
    "y=df.iloc[:,-1]\n",
    "y"
   ]
  },
  {
   "cell_type": "code",
   "execution_count": null,
   "id": "e3da6808",
   "metadata": {
    "scrolled": true
   },
   "outputs": [],
   "source": [
    "vif=pd.DataFrame()\n",
    "vif['Feature']=x.columns\n",
    "vif['VIF'] = [variance_inflation_factor(x.values,i) for i in range(len(x.columns))]\n",
    "vif"
   ]
  },
  {
   "cell_type": "markdown",
   "id": "a0c45ece",
   "metadata": {},
   "source": [
    "- GRE Score has hight multicollinearity value."
   ]
  },
  {
   "cell_type": "code",
   "execution_count": null,
   "id": "5a7c94e2",
   "metadata": {},
   "outputs": [],
   "source": [
    "xtrain,xtest,ytrain,ytest=train_test_split(x,y,test_size=0.3,random_state=42,stratify=y)"
   ]
  },
  {
   "cell_type": "code",
   "execution_count": null,
   "id": "9e2c4d1d",
   "metadata": {
    "scrolled": true
   },
   "outputs": [],
   "source": [
    "xtrain.shape, xtest.shape, ytrain.shape, ytest.shape"
   ]
  },
  {
   "cell_type": "code",
   "execution_count": null,
   "id": "09e6aa98",
   "metadata": {},
   "outputs": [],
   "source": [
    "# prevalance rate of ytrain.\n",
    "ytrain.value_counts(normalize=True)*100"
   ]
  },
  {
   "cell_type": "code",
   "execution_count": null,
   "id": "d7a3ba1a",
   "metadata": {
    "scrolled": false
   },
   "outputs": [],
   "source": [
    "# prevalance rate of ytest.\n",
    "ytest.value_counts(normalize=True)*100"
   ]
  },
  {
   "cell_type": "markdown",
   "id": "16d47ff4",
   "metadata": {},
   "source": [
    "- Both ytrain and ytest are balanced."
   ]
  },
  {
   "cell_type": "markdown",
   "id": "b8e7aa44",
   "metadata": {},
   "source": [
    "### Feature Scaling. "
   ]
  },
  {
   "cell_type": "code",
   "execution_count": null,
   "id": "90d7f6be",
   "metadata": {},
   "outputs": [],
   "source": [
    "scale = MinMaxScaler()\n",
    "xtrain = scale.fit_transform(xtrain)\n",
    "xtest = scale.transform(xtest)"
   ]
  },
  {
   "cell_type": "code",
   "execution_count": null,
   "id": "e476a813",
   "metadata": {
    "scrolled": true
   },
   "outputs": [],
   "source": [
    "xtrain"
   ]
  },
  {
   "cell_type": "markdown",
   "id": "7dd17b91",
   "metadata": {},
   "source": [
    "### Feature Importance using Random Forest"
   ]
  },
  {
   "cell_type": "code",
   "execution_count": null,
   "id": "2eebaf53",
   "metadata": {
    "scrolled": false
   },
   "outputs": [],
   "source": [
    "pd.DataFrame(data= RandomForestClassifier().fit(x,y).feature_importances_,index=x.columns\n",
    "             ,columns=['Feature Importance']).plot.barh();"
   ]
  },
  {
   "cell_type": "markdown",
   "id": "91f2994c",
   "metadata": {},
   "source": [
    "- CGPA is the most important feature for the target variable.\n",
    "- Research is the least important feature for the target variable."
   ]
  },
  {
   "cell_type": "code",
   "execution_count": null,
   "id": "bd2b693d",
   "metadata": {
    "scrolled": false
   },
   "outputs": [],
   "source": [
    "plt.figure(figsize=(10,10))\n",
    "sns.violinplot(x=df['CGPA'],y=y.values)\n",
    "plt.xlabel('CGPA')\n",
    "plt.ylabel('Chance of Admit')\n",
    "plt.show()"
   ]
  },
  {
   "cell_type": "markdown",
   "id": "b2a1179e",
   "metadata": {},
   "source": [
    "# Logistic Regression Model"
   ]
  },
  {
   "cell_type": "code",
   "execution_count": null,
   "id": "13e7a3ae",
   "metadata": {},
   "outputs": [],
   "source": [
    "lo=LogisticRegression(solver='liblinear',max_iter=500,class_weight='balanced')"
   ]
  },
  {
   "cell_type": "code",
   "execution_count": null,
   "id": "3fe60db3",
   "metadata": {},
   "outputs": [],
   "source": [
    "model1=lo.fit(xtrain,ytrain)"
   ]
  },
  {
   "cell_type": "code",
   "execution_count": null,
   "id": "592fdea0",
   "metadata": {},
   "outputs": [],
   "source": [
    "ytrain_pred_lo=lo.predict(xtrain)\n",
    "ytrain_pred_lo"
   ]
  },
  {
   "cell_type": "code",
   "execution_count": null,
   "id": "5f0a4b3f",
   "metadata": {
    "scrolled": true
   },
   "outputs": [],
   "source": [
    "ytest_pred_lo=lo.predict(xtest)\n",
    "ytest_pred_lo"
   ]
  },
  {
   "cell_type": "code",
   "execution_count": null,
   "id": "e8ee471c",
   "metadata": {},
   "outputs": [],
   "source": [
    "def metrics(a,b):\n",
    "    cm=confusion_matrix(a,b)\n",
    "    print('--> Confusion Matrix:\\n',cm)\n",
    "    \n",
    "    cr=classification_report(a,b)\n",
    "    print('\\n--> Classification Report:\\n',cr)\n",
    "    \n",
    "    acc_score=accuracy_score(a,b)\n",
    "    print('\\n--> Accuracy Score:\\n',acc_score)"
   ]
  },
  {
   "cell_type": "markdown",
   "id": "3c3e06ee",
   "metadata": {},
   "source": [
    "### Logistic Regression Report."
   ]
  },
  {
   "cell_type": "code",
   "execution_count": null,
   "id": "991f6be8",
   "metadata": {
    "scrolled": true
   },
   "outputs": [],
   "source": [
    "metrics(ytrain,ytrain_pred_lo)"
   ]
  },
  {
   "cell_type": "code",
   "execution_count": null,
   "id": "d5672245",
   "metadata": {},
   "outputs": [],
   "source": [
    "metrics(ytest,ytest_pred_lo)"
   ]
  },
  {
   "cell_type": "code",
   "execution_count": null,
   "id": "caa766b1",
   "metadata": {},
   "outputs": [],
   "source": [
    "crossval_lo=cross_val_score(lo,xtrain,ytrain,cv=10)\n",
    "crossval_lo_mean=crossval_lo.mean()\n",
    "print('cross_val_score for logistic: ',crossval_lo)\n",
    "print('\\nMean Score: ',crossval_lo_mean)"
   ]
  },
  {
   "cell_type": "code",
   "execution_count": null,
   "id": "6e8c039e",
   "metadata": {},
   "outputs": [],
   "source": [
    "sns.boxplot(crossval_lo)"
   ]
  },
  {
   "cell_type": "markdown",
   "id": "84e6c842",
   "metadata": {},
   "source": [
    "# Q.5\tBuild a Decision Tree classifier, to predict whether a student has a low or high chance of admission to a chosen university. Perform Hyperparameter Tuning to improve the accuracy of the model."
   ]
  },
  {
   "cell_type": "code",
   "execution_count": null,
   "id": "f3af76c4",
   "metadata": {},
   "outputs": [],
   "source": [
    "dt=DecisionTreeClassifier(max_depth=20,min_samples_split=2,ccp_alpha=0.01,criterion='entropy',max_features='auto',class_weight='balanced')"
   ]
  },
  {
   "cell_type": "code",
   "execution_count": null,
   "id": "59ca1252",
   "metadata": {},
   "outputs": [],
   "source": [
    "model2=dt.fit(xtrain,ytrain)"
   ]
  },
  {
   "cell_type": "code",
   "execution_count": null,
   "id": "13d20fba",
   "metadata": {},
   "outputs": [],
   "source": [
    "ytrain_pred_dt=dt.predict(xtrain)\n",
    "ytrain_pred_dt"
   ]
  },
  {
   "cell_type": "code",
   "execution_count": null,
   "id": "e21cab73",
   "metadata": {},
   "outputs": [],
   "source": [
    "ytest_pred_dt=dt.predict(xtest)\n",
    "ytest_pred_dt"
   ]
  },
  {
   "cell_type": "markdown",
   "id": "60a4c8cd",
   "metadata": {},
   "source": [
    "### Decision Tree Report"
   ]
  },
  {
   "cell_type": "code",
   "execution_count": null,
   "id": "d393ceec",
   "metadata": {
    "scrolled": true
   },
   "outputs": [],
   "source": [
    "metrics(ytrain,ytrain_pred_dt)"
   ]
  },
  {
   "cell_type": "code",
   "execution_count": null,
   "id": "da418189",
   "metadata": {},
   "outputs": [],
   "source": [
    "metrics(ytest,ytest_pred_dt)"
   ]
  },
  {
   "cell_type": "code",
   "execution_count": null,
   "id": "2d22899c",
   "metadata": {},
   "outputs": [],
   "source": [
    "crossval_dt=cross_val_score(dt,xtrain,ytrain,cv=10)\n",
    "crossval_dt_mean=crossval_dt.mean()\n",
    "print('cross_val_score for Decision Tree: ',crossval_dt)\n",
    "print('\\nMean Score: ',crossval_dt_mean)"
   ]
  },
  {
   "cell_type": "code",
   "execution_count": null,
   "id": "13f5f292",
   "metadata": {},
   "outputs": [],
   "source": [
    "sns.boxplot(crossval_dt)"
   ]
  },
  {
   "cell_type": "code",
   "execution_count": null,
   "id": "280fc4d8",
   "metadata": {},
   "outputs": [],
   "source": []
  },
  {
   "cell_type": "markdown",
   "id": "c26b5e0a",
   "metadata": {},
   "source": [
    "# Q6. Build a Random Forest classifier, to predict whether a student has a low or high chance of admission to a chosen university."
   ]
  },
  {
   "cell_type": "code",
   "execution_count": null,
   "id": "1cf2d8e6",
   "metadata": {},
   "outputs": [],
   "source": [
    "rf=RandomForestClassifier(max_depth=15,min_samples_split=3,criterion='entropy',class_weight='balanced',max_features='auto', n_estimators=10)"
   ]
  },
  {
   "cell_type": "code",
   "execution_count": null,
   "id": "e859dd35",
   "metadata": {},
   "outputs": [],
   "source": [
    "model3=rf.fit(xtrain,ytrain)"
   ]
  },
  {
   "cell_type": "code",
   "execution_count": null,
   "id": "5e4663e0",
   "metadata": {},
   "outputs": [],
   "source": [
    "ytrain_pred_rf=rf.predict(xtrain)\n",
    "ytrain_pred_rf"
   ]
  },
  {
   "cell_type": "code",
   "execution_count": null,
   "id": "3759a04d",
   "metadata": {
    "scrolled": true
   },
   "outputs": [],
   "source": [
    "ytest_pred_rf=rf.predict(xtest)\n",
    "ytest_pred_rf"
   ]
  },
  {
   "cell_type": "markdown",
   "id": "446424b6",
   "metadata": {
    "scrolled": true
   },
   "source": [
    "### Random Forest Report."
   ]
  },
  {
   "cell_type": "code",
   "execution_count": null,
   "id": "13970873",
   "metadata": {},
   "outputs": [],
   "source": [
    "metrics(ytrain,ytrain_pred_rf)"
   ]
  },
  {
   "cell_type": "code",
   "execution_count": null,
   "id": "32b3014f",
   "metadata": {},
   "outputs": [],
   "source": [
    "metrics(ytest,ytest_pred_rf)"
   ]
  },
  {
   "cell_type": "code",
   "execution_count": null,
   "id": "27cdd491",
   "metadata": {},
   "outputs": [],
   "source": [
    "crossval_rf=cross_val_score(rf,xtrain,ytrain,cv=10)\n",
    "crossval_rf_mean=crossval_rf.mean()\n",
    "print('cross_val_score for Random Forest: ',crossval_rf)\n",
    "print('\\nMean Score: ',crossval_rf_mean)"
   ]
  },
  {
   "cell_type": "code",
   "execution_count": null,
   "id": "a05d2730",
   "metadata": {
    "scrolled": false
   },
   "outputs": [],
   "source": [
    "sns.boxplot(crossval_rf)"
   ]
  },
  {
   "cell_type": "markdown",
   "id": "2d4514cc",
   "metadata": {},
   "source": [
    "# Q.7\tAlso use Ensemble Modelling techniques, to predict whether a student has a low or high chance of admission to a chosen university."
   ]
  },
  {
   "cell_type": "code",
   "execution_count": null,
   "id": "b61d8c0e",
   "metadata": {},
   "outputs": [],
   "source": [
    "bg=BaggingClassifier(max_samples=100,n_estimators=20,max_features=6,random_state=42)"
   ]
  },
  {
   "cell_type": "code",
   "execution_count": null,
   "id": "c5793f66",
   "metadata": {},
   "outputs": [],
   "source": [
    "model4=bg.fit(xtrain,ytrain)"
   ]
  },
  {
   "cell_type": "code",
   "execution_count": null,
   "id": "1045d6b7",
   "metadata": {},
   "outputs": [],
   "source": [
    "ytrain_pred_bg=bg.predict(xtrain)\n",
    "ytrain_pred_bg"
   ]
  },
  {
   "cell_type": "code",
   "execution_count": null,
   "id": "167782c6",
   "metadata": {},
   "outputs": [],
   "source": [
    "ytest_pred_bg=bg.predict(xtest)\n",
    "ytest_pred_bg"
   ]
  },
  {
   "cell_type": "markdown",
   "id": "65e4c0c7",
   "metadata": {},
   "source": [
    "### Bagging Classifier Report"
   ]
  },
  {
   "cell_type": "code",
   "execution_count": null,
   "id": "d50de94d",
   "metadata": {
    "scrolled": true
   },
   "outputs": [],
   "source": [
    "metrics(ytrain,ytrain_pred_bg)"
   ]
  },
  {
   "cell_type": "code",
   "execution_count": null,
   "id": "2924abcd",
   "metadata": {},
   "outputs": [],
   "source": [
    "metrics(ytest,ytest_pred_bg)"
   ]
  },
  {
   "cell_type": "code",
   "execution_count": null,
   "id": "e1b34c93",
   "metadata": {},
   "outputs": [],
   "source": [
    "crossval_bg=cross_val_score(bg,xtrain,ytrain,cv=10)\n",
    "crossval_bg_mean=crossval_bg.mean()\n",
    "print('cross_val_score for Random Forest: ',crossval_bg)\n",
    "print('\\nMean Score: ',crossval_bg_mean)"
   ]
  },
  {
   "cell_type": "markdown",
   "id": "f36c0b8b",
   "metadata": {},
   "source": [
    "# Q.8\tCompare all of the models and justify your choice about the optimum model."
   ]
  },
  {
   "cell_type": "markdown",
   "id": "b3cb69c0",
   "metadata": {},
   "source": [
    "- Here, since it "
   ]
  },
  {
   "cell_type": "code",
   "execution_count": null,
   "id": "376d1048",
   "metadata": {
    "scrolled": true
   },
   "outputs": [],
   "source": [
    "crossval=pd.DataFrame({'logistic Accuracy':crossval_lo,'Decision Tree Accuracy':crossval_dt,'Random Forest Accuracy':crossval_rf,'Bagging Classifier Accuracy':crossval_bg})\n",
    "crossval"
   ]
  },
  {
   "cell_type": "code",
   "execution_count": null,
   "id": "1de9e16f",
   "metadata": {},
   "outputs": [],
   "source": [
    "plt.figure(figsize=(10,5))\n",
    "sns.boxplot(data=crossval)\n",
    "plt.show()"
   ]
  },
  {
   "cell_type": "code",
   "execution_count": null,
   "id": "b7254f16",
   "metadata": {},
   "outputs": [],
   "source": [
    "comparison=pd.DataFrame({'Models':['Logistic','Decision Tree','Random Forest','Bagging Classifier'],'Score':[crossval_dt_mean,crossval_dt_mean,crossval_rf_mean,crossval_bg_mean]})\n",
    "\n",
    "\n",
    "comparison.sort_values(by='Score', ascending=False)"
   ]
  },
  {
   "cell_type": "markdown",
   "id": "549c0468",
   "metadata": {},
   "source": [
    "- Here, Accuracy would be the better metrics. so, the model with high Score would be the better Model.\n",
    "- So, Random Forest would be the Better Model."
   ]
  },
  {
   "cell_type": "code",
   "execution_count": null,
   "id": "48f76e0f",
   "metadata": {},
   "outputs": [],
   "source": []
  },
  {
   "cell_type": "code",
   "execution_count": null,
   "id": "82ea7680",
   "metadata": {},
   "outputs": [],
   "source": []
  },
  {
   "cell_type": "code",
   "execution_count": null,
   "id": "b0719e30",
   "metadata": {},
   "outputs": [],
   "source": []
  }
 ],
 "metadata": {
  "kernelspec": {
   "display_name": "Python 3",
   "language": "python",
   "name": "python3"
  },
  "language_info": {
   "codemirror_mode": {
    "name": "ipython",
    "version": 3
   },
   "file_extension": ".py",
   "mimetype": "text/x-python",
   "name": "python",
   "nbconvert_exporter": "python",
   "pygments_lexer": "ipython3",
   "version": "3.8.8"
  }
 },
 "nbformat": 4,
 "nbformat_minor": 5
}
